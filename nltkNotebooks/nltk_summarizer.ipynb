{
 "cells": [
  {
   "cell_type": "markdown",
   "metadata": {},
   "source": [
    "## Basic Implementation Based on Most Important Words\n",
    "---\n",
    "\n",
    "**This implementation uses frequency distribution of words to rank each sentence and select the top sentences**\n",
    "\n",
    "### Improvements (To Do)\n",
    "1. Based on pos tagging we can give preference to specific type of pos like nouns etc."
   ]
  },
  {
   "cell_type": "code",
   "execution_count": 61,
   "metadata": {
    "collapsed": true
   },
   "outputs": [],
   "source": [
    "from nltk.tokenize import word_tokenize, sent_tokenize\n",
    "from nltk.corpus import stopwords\n",
    "from nltk.probability import FreqDist\n",
    "import string\n",
    "\n",
    "class Summarizer:\n",
    "    stopwords = stopwords.words(\"english\")\n",
    "\n",
    "    def __init__(self,min_freq=0.1,max_freq=0.9):\n",
    "        self._min_freq = min_freq\n",
    "        self._max_freq = max_freq\n",
    "        \n",
    "    def get_useful_bag_of_words(self,text):\n",
    "        bag_of_words = [w for w in word_tokenize(text) if w not in (self.stopwords + list(string.punctuation))]\n",
    "        return bag_of_words\n",
    "    \n",
    "    def score_sent(self,sent,word_rank_list):\n",
    "        score = 0\n",
    "        for w in word_tokenize(sent.lower()):\n",
    "            if w in word_rank_list.keys():\n",
    "                score += word_rank_list[w]\n",
    "        return score\n",
    "    \n",
    "    def reorder_sents(self,sents,text):\n",
    "        sents.sort( lambda s1, s2: text.find(s1) - text.find(s2) )\n",
    "        return sents\n",
    "    \n",
    "    def get_summary(self,text,sent_num):\n",
    "        sane_text = unicode(text, \"utf-8\")\n",
    "        \n",
    "        word_freq_dist = FreqDist(self.get_useful_bag_of_words(sane_text.lower()))\n",
    "        \n",
    "        word_ranks = {}\n",
    "        for word in word_freq_dist:\n",
    "            word_ranks[word] = word_freq_dist.freq(word)\n",
    "            \n",
    "        sents = sent_tokenize(sane_text)\n",
    "        \n",
    "        if sent_num > len(sents):\n",
    "            print \"text already summarized !!!\"\n",
    "            return\n",
    "        \n",
    "        full_output = []\n",
    "        for sent in sents:\n",
    "            temp = {}\n",
    "            temp['sent'] = sent\n",
    "            temp['score'] = self.score_sent(sent,word_ranks)\n",
    "            full_output.append(temp)\n",
    "            \n",
    "        sorted_full_output = sorted(full_output, key=lambda k: k['score'], reverse=True)\n",
    "        top_output_sents = [s['sent'] for s in sorted_full_output[:sent_num]]\n",
    "        reordered_sents = self.reorder_sents(top_output_sents,sane_text)\n",
    "        return \"\".join(reordered_sents)\n",
    "    "
   ]
  },
  {
   "cell_type": "code",
   "execution_count": 62,
   "metadata": {
    "collapsed": false
   },
   "outputs": [
    {
     "name": "stdout",
     "output_type": "stream",
     "text": [
      "All emotions, and that one particularly, were abhorrent to his cold, precise but admirably balanced mind.He was, I take it, the most perfect reasoning and observing machine that the world has seen, but as a lover he would have placed himself in a false position.But for the trained reasoner to admit such intrusions into his own delicate and finely adjusted temperament was to introduce a distracting factor which might throw a doubt upon all his mental results.Grit in a sensitive instrument, or a crack in one of his own high-power lenses, would not be more disturbing than a strong emotion in a nature such as his.And yet there was but one woman to him, and that woman was the late Irene Adler, of dubious and questionable memory.\n"
     ]
    }
   ],
   "source": [
    "test_summarizer = Summarizer()\n",
    "\n",
    "test_sent = \"\"\"To Sherlock Holmes she is always the woman. I have\n",
    "seldom heard him mention her under any other name. In his eyes she\n",
    "eclipses and predominates the whole of her sex. It was not that he\n",
    "felt any emotion akin to love for Irene Adler. All emotions, and that\n",
    "one particularly, were abhorrent to his cold, precise but admirably\n",
    "balanced mind. He was, I take it, the most perfect reasoning and\n",
    "observing machine that the world has seen, but as a lover he would\n",
    "have placed himself in a false position. He never spoke of the softer\n",
    "passions, save with a gibe and a sneer. They were admirable things for\n",
    "the observer-excellent for drawing the veil from men’s motives and\n",
    "actions. But for the trained reasoner to admit such intrusions into\n",
    "his own delicate and finely adjusted temperament was to introduce a\n",
    "distracting factor which might throw a doubt upon all his mental\n",
    "results. Grit in a sensitive instrument, or a crack in one of his own\n",
    "high-power lenses, would not be more disturbing than a strong emotion\n",
    "in a nature such as his. And yet there was but one woman to him, and\n",
    "that woman was the late Irene Adler, of dubious and questionable\n",
    "memory.\n",
    "\"\"\"\n",
    "\n",
    "summary = \" \".join(test_summarizer.get_summary(test_sent,5).split())\n",
    "\n",
    "print summary"
   ]
  }
 ],
 "metadata": {
  "kernelspec": {
   "display_name": "Python 2",
   "language": "python",
   "name": "python2"
  },
  "language_info": {
   "codemirror_mode": {
    "name": "ipython",
    "version": 2
   },
   "file_extension": ".py",
   "mimetype": "text/x-python",
   "name": "python",
   "nbconvert_exporter": "python",
   "pygments_lexer": "ipython2",
   "version": "2.7.9"
  }
 },
 "nbformat": 4,
 "nbformat_minor": 0
}
